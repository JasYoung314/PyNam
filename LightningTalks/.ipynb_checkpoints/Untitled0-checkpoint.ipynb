{
 "metadata": {
  "name": "",
  "signature": "sha256:66317d86bb0ec2fd600f3697ae0b7330c5e21fbe5ef3a3c218d417cbe7ae8c5e"
 },
 "nbformat": 3,
 "nbformat_minor": 0,
 "worksheets": []
}